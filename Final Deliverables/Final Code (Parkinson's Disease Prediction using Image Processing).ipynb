{
 "cells": [
  {
   "cell_type": "markdown",
   "id": "5af99461",
   "metadata": {},
   "source": [
    "# Detecting Parkinsons Disease using Machine Learning "
   ]
  },
  {
   "cell_type": "markdown",
   "id": "9c87dbd1",
   "metadata": {},
   "source": [
    "## Final Code"
   ]
  },
  {
   "cell_type": "markdown",
   "id": "da764868",
   "metadata": {},
   "source": [
    "Importing Libraries"
   ]
  },
  {
   "cell_type": "code",
   "execution_count": 1,
   "id": "29defea7",
   "metadata": {},
   "outputs": [],
   "source": [
    "import cv2\n",
    "import os\n",
    "import random\n",
    "import numpy as np\n",
    "from sklearn.model_selection import train_test_split\n",
    "import tensorflow_hub as hub\n",
    "import tensorflow as tf"
   ]
  },
  {
   "cell_type": "markdown",
   "id": "d94eeaeb",
   "metadata": {},
   "source": [
    "Train Images Directory"
   ]
  },
  {
   "cell_type": "code",
   "execution_count": 2,
   "id": "02a97dd2",
   "metadata": {},
   "outputs": [],
   "source": [
    "TRAIN_DIR = \"E:/ML(Main)/IBM-PD/Model/dataset/Training/\""
   ]
  },
  {
   "cell_type": "markdown",
   "id": "01b604ac",
   "metadata": {},
   "source": [
    "Test Images Directory"
   ]
  },
  {
   "cell_type": "code",
   "execution_count": 3,
   "id": "479e39a3",
   "metadata": {},
   "outputs": [],
   "source": [
    "TEST_DIR = \"E:/ML(Main)/IBM-PD/Model/dataset/Testing/\""
   ]
  },
  {
   "cell_type": "markdown",
   "id": "2b45d1e0",
   "metadata": {},
   "source": [
    "Classes to Predict"
   ]
  },
  {
   "cell_type": "code",
   "execution_count": 4,
   "id": "63a0abbd",
   "metadata": {},
   "outputs": [],
   "source": [
    "CATEGORIES = ['Healthy', 'Parkinsons']"
   ]
  },
  {
   "cell_type": "markdown",
   "id": "5f77b7b3",
   "metadata": {},
   "source": [
    "Reading Train Images"
   ]
  },
  {
   "cell_type": "code",
   "execution_count": 5,
   "id": "e4286f5b",
   "metadata": {},
   "outputs": [],
   "source": [
    "trainImgs = []"
   ]
  },
  {
   "cell_type": "code",
   "execution_count": 6,
   "id": "1cc693d5",
   "metadata": {},
   "outputs": [],
   "source": [
    "for cat in CATEGORIES:\n",
    "    path=os.path.join(TRAIN_DIR,cat) # Specifying the directory to take images from for each alphabet\n",
    "    class_num = CATEGORIES.index(cat) # Using the index of the CATEGORIES list to assign a label to each image\n",
    "    for img in os.listdir(path): # FOR loop which appends read images to the Training List\n",
    "        img=cv2.imread(TRAIN_DIR+cat+'/'+img)\n",
    "        resizedimg = cv2.resize(img, (224,224), interpolation= cv2.INTER_CUBIC)\n",
    "        trainImgs.append([resizedimg,class_num])"
   ]
  },
  {
   "cell_type": "markdown",
   "id": "a80d4885",
   "metadata": {},
   "source": [
    "Shuffling for better accuracy"
   ]
  },
  {
   "cell_type": "code",
   "execution_count": 7,
   "id": "eed70497",
   "metadata": {},
   "outputs": [],
   "source": [
    "random.shuffle(trainImgs)"
   ]
  },
  {
   "cell_type": "markdown",
   "id": "2c85f17f",
   "metadata": {},
   "source": [
    "Creating Train Dataset"
   ]
  },
  {
   "cell_type": "code",
   "execution_count": 8,
   "id": "dfd65e22",
   "metadata": {},
   "outputs": [],
   "source": [
    "X = []\n",
    "y = []\n",
    "for item in trainImgs:\n",
    "    X.append(item[0])\n",
    "    y.append(item[1])\n",
    "X=np.array(X)\n",
    "y=np.array(y)"
   ]
  },
  {
   "cell_type": "markdown",
   "id": "a9a6a91c",
   "metadata": {},
   "source": [
    "Normalizing"
   ]
  },
  {
   "cell_type": "code",
   "execution_count": 9,
   "id": "a8b5f569",
   "metadata": {},
   "outputs": [],
   "source": [
    "Xnor = X/255.0"
   ]
  },
  {
   "cell_type": "markdown",
   "id": "2ae6f6c0",
   "metadata": {},
   "source": [
    "Train Test Split"
   ]
  },
  {
   "cell_type": "code",
   "execution_count": 10,
   "id": "4ca9cee7",
   "metadata": {},
   "outputs": [],
   "source": [
    "X_train, X_test, y_train, y_test = train_test_split(Xnor, y, test_size=0.3)"
   ]
  },
  {
   "cell_type": "markdown",
   "id": "7c2c7672",
   "metadata": {},
   "source": [
    "Model Construction"
   ]
  },
  {
   "cell_type": "code",
   "execution_count": 11,
   "id": "170cab26",
   "metadata": {},
   "outputs": [],
   "source": [
    "mobilenet_v2 = \"https://tfhub.dev/google/tf2-preview/mobilenet_v2/feature_vector/4\""
   ]
  },
  {
   "cell_type": "code",
   "execution_count": 12,
   "id": "285af1b0",
   "metadata": {},
   "outputs": [],
   "source": [
    "mobile_net_layers = hub.KerasLayer(mobilenet_v2, input_shape=(224,224,3))"
   ]
  },
  {
   "cell_type": "code",
   "execution_count": 13,
   "id": "b2e62106",
   "metadata": {},
   "outputs": [],
   "source": [
    "mobile_net_layers.trainable = False"
   ]
  },
  {
   "cell_type": "code",
   "execution_count": 14,
   "id": "4e51bcac",
   "metadata": {},
   "outputs": [],
   "source": [
    "model = tf.keras.Sequential([\n",
    "  mobile_net_layers,\n",
    "  tf.keras.layers.Dropout(0.1),\n",
    "  tf.keras.layers.Dense(1,activation='sigmoid')\n",
    "])"
   ]
  },
  {
   "cell_type": "code",
   "execution_count": 15,
   "id": "9fde02d1",
   "metadata": {},
   "outputs": [],
   "source": [
    "model.compile(optimizer='adam',loss='binary_crossentropy',metrics=['accuracy'])"
   ]
  },
  {
   "cell_type": "markdown",
   "id": "014ee2fd",
   "metadata": {},
   "source": [
    "Model Training"
   ]
  },
  {
   "cell_type": "code",
   "execution_count": 16,
   "id": "e9c082b6",
   "metadata": {},
   "outputs": [
    {
     "name": "stdout",
     "output_type": "stream",
     "text": [
      "Epoch 1/9\n",
      "4/4 [==============================] - 6s 823ms/step - loss: 0.7316 - accuracy: 0.5200 - val_loss: 0.7313 - val_accuracy: 0.5455\n",
      "Epoch 2/9\n",
      "4/4 [==============================] - 2s 610ms/step - loss: 0.6749 - accuracy: 0.5900 - val_loss: 0.7117 - val_accuracy: 0.5455\n",
      "Epoch 3/9\n",
      "4/4 [==============================] - 2s 593ms/step - loss: 0.6573 - accuracy: 0.6300 - val_loss: 0.7174 - val_accuracy: 0.6591\n",
      "Epoch 4/9\n",
      "4/4 [==============================] - 2s 602ms/step - loss: 0.5878 - accuracy: 0.7100 - val_loss: 0.6750 - val_accuracy: 0.6591\n",
      "Epoch 5/9\n",
      "4/4 [==============================] - 2s 606ms/step - loss: 0.5688 - accuracy: 0.7400 - val_loss: 0.6230 - val_accuracy: 0.6818\n",
      "Epoch 6/9\n",
      "4/4 [==============================] - 2s 595ms/step - loss: 0.5477 - accuracy: 0.7700 - val_loss: 0.5574 - val_accuracy: 0.7500\n",
      "Epoch 7/9\n",
      "4/4 [==============================] - 2s 572ms/step - loss: 0.5372 - accuracy: 0.7700 - val_loss: 0.5211 - val_accuracy: 0.7500\n",
      "Epoch 8/9\n",
      "4/4 [==============================] - 2s 602ms/step - loss: 0.5047 - accuracy: 0.8100 - val_loss: 0.5408 - val_accuracy: 0.7500\n",
      "Epoch 9/9\n",
      "4/4 [==============================] - 2s 638ms/step - loss: 0.4859 - accuracy: 0.8000 - val_loss: 0.5725 - val_accuracy: 0.7273\n"
     ]
    },
    {
     "data": {
      "text/plain": [
       "<keras.callbacks.History at 0x1f6765ddca0>"
      ]
     },
     "execution_count": 16,
     "metadata": {},
     "output_type": "execute_result"
    }
   ],
   "source": [
    "model.fit(X_train, y_train, epochs=9, validation_data=(X_test, y_test))      "
   ]
  },
  {
   "cell_type": "markdown",
   "id": "47a6a2e9",
   "metadata": {},
   "source": [
    "Final Model Construction"
   ]
  },
  {
   "cell_type": "code",
   "execution_count": 17,
   "id": "9d94c9e7",
   "metadata": {},
   "outputs": [
    {
     "name": "stdout",
     "output_type": "stream",
     "text": [
      "Epoch 1/9\n",
      "5/5 [==============================] - 4s 437ms/step - loss: 0.7330 - accuracy: 0.5347\n",
      "Epoch 2/9\n",
      "5/5 [==============================] - 2s 431ms/step - loss: 0.6542 - accuracy: 0.6181\n",
      "Epoch 3/9\n",
      "5/5 [==============================] - 2s 436ms/step - loss: 0.6017 - accuracy: 0.6944\n",
      "Epoch 4/9\n",
      "5/5 [==============================] - 2s 425ms/step - loss: 0.5795 - accuracy: 0.7569\n",
      "Epoch 5/9\n",
      "5/5 [==============================] - 2s 439ms/step - loss: 0.5458 - accuracy: 0.7014\n",
      "Epoch 6/9\n",
      "5/5 [==============================] - 2s 435ms/step - loss: 0.5076 - accuracy: 0.7569\n",
      "Epoch 7/9\n",
      "5/5 [==============================] - 2s 431ms/step - loss: 0.4789 - accuracy: 0.7917\n",
      "Epoch 8/9\n",
      "5/5 [==============================] - 2s 470ms/step - loss: 0.4515 - accuracy: 0.8125\n",
      "Epoch 9/9\n",
      "5/5 [==============================] - 2s 441ms/step - loss: 0.4274 - accuracy: 0.8264\n"
     ]
    },
    {
     "data": {
      "text/plain": [
       "<keras.callbacks.History at 0x1f605f27c40>"
      ]
     },
     "execution_count": 17,
     "metadata": {},
     "output_type": "execute_result"
    }
   ],
   "source": [
    "model = tf.keras.Sequential([\n",
    "  mobile_net_layers,\n",
    "  tf.keras.layers.Dropout(0.1),\n",
    "  tf.keras.layers.Dense(1,activation='sigmoid')\n",
    "])\n",
    "\n",
    "model.compile(optimizer='adam',loss='binary_crossentropy',metrics=['accuracy'])\n",
    "\n",
    "model.fit(Xnor, y, epochs=9)    "
   ]
  },
  {
   "cell_type": "markdown",
   "id": "efa81929",
   "metadata": {},
   "source": [
    "Saving Model "
   ]
  },
  {
   "cell_type": "code",
   "execution_count": 18,
   "id": "6343f951",
   "metadata": {},
   "outputs": [],
   "source": [
    "model.save('Parkinsons.h5')"
   ]
  },
  {
   "cell_type": "markdown",
   "id": "f68598d9",
   "metadata": {},
   "source": [
    "Loading Model"
   ]
  },
  {
   "cell_type": "code",
   "execution_count": 19,
   "id": "725c873b",
   "metadata": {},
   "outputs": [],
   "source": [
    "model=tf.keras.models.load_model('Parkinsons.h5',custom_objects={'KerasLayer': hub.KerasLayer})"
   ]
  },
  {
   "cell_type": "markdown",
   "id": "f0cf9a38",
   "metadata": {},
   "source": [
    "Testing with given Test Data"
   ]
  },
  {
   "cell_type": "code",
   "execution_count": 20,
   "id": "8810e876",
   "metadata": {},
   "outputs": [],
   "source": [
    "testImgs = []\n",
    "for cat in CATEGORIES:\n",
    "    path=os.path.join(TEST_DIR,cat) # Specifying the directory to take images from for each alphabet\n",
    "    class_num = CATEGORIES.index(cat) # Using the index of the CATEGORIES list to assign a label to each image\n",
    "    for img in os.listdir(path): # FOR loop which appends read images to the Training List\n",
    "        img=cv2.imread(TEST_DIR+cat+'/'+img)\n",
    "        resizedimg = cv2.resize(img, (224,224), interpolation= cv2.INTER_CUBIC)\n",
    "        testImgs.append([resizedimg,class_num])"
   ]
  },
  {
   "cell_type": "code",
   "execution_count": 21,
   "id": "2c940059",
   "metadata": {},
   "outputs": [],
   "source": [
    "X_test = []\n",
    "y_test = []\n",
    "for item in testImgs:\n",
    "    X_test.append(item[0])\n",
    "    y_test.append(item[1])\n",
    "X_test=np.array(X_test)\n",
    "y_test=np.array(y_test)"
   ]
  },
  {
   "cell_type": "code",
   "execution_count": 22,
   "id": "dae60048",
   "metadata": {},
   "outputs": [],
   "source": [
    "X_test_nor = X_test/255.0"
   ]
  },
  {
   "cell_type": "code",
   "execution_count": 23,
   "id": "0baa9c1e",
   "metadata": {},
   "outputs": [
    {
     "name": "stdout",
     "output_type": "stream",
     "text": [
      "2/2 [==============================] - 1s 436ms/step - loss: 0.4087 - accuracy: 0.8167\n"
     ]
    },
    {
     "data": {
      "text/plain": [
       "[0.4087409973144531, 0.8166666626930237]"
      ]
     },
     "execution_count": 23,
     "metadata": {},
     "output_type": "execute_result"
    }
   ],
   "source": [
    "model.evaluate(X_test_nor, y_test)"
   ]
  },
  {
   "cell_type": "markdown",
   "id": "710b7c99",
   "metadata": {},
   "source": [
    "# Completed Successfully"
   ]
  }
 ],
 "metadata": {
  "kernelspec": {
   "display_name": "Python 3 (ipykernel)",
   "language": "python",
   "name": "python3"
  },
  "language_info": {
   "codemirror_mode": {
    "name": "ipython",
    "version": 3
   },
   "file_extension": ".py",
   "mimetype": "text/x-python",
   "name": "python",
   "nbconvert_exporter": "python",
   "pygments_lexer": "ipython3",
   "version": "3.9.7"
  }
 },
 "nbformat": 4,
 "nbformat_minor": 5
}
